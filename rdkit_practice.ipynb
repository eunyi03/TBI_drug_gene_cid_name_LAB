{
 "cells": [
  {
   "cell_type": "code",
   "execution_count": 1,
   "metadata": {},
   "outputs": [],
   "source": [
    "import pandas as pd\n",
    "import numpy as np\n",
    "import warnings"
   ]
  },
  {
   "cell_type": "code",
   "execution_count": 10,
   "metadata": {},
   "outputs": [],
   "source": [
    "from rdkit import Chem\n",
    "from rdkit.Chem import Draw\n",
    "from rdkit.Chem.Draw import IPythonConsole\n",
    "from rdkit.Chem import Descriptors\n",
    "from rdkit.Chem import AllChem, PandasTools, MACCSkeys, AtomPairs, rdFingerprintGenerator\n",
    "from rdkit import DataStructs\n",
    "from rdkit.Chem.rdmolops import PatternFingerprint\n",
    "from rdkit.Avalon import pyAvalonTools\n",
    "from rdkit.Chem.AtomPairs.Pairs import GetAtomPairFingerprintAsBitVect\n",
    "\n",
    "pd.set_option('display.max_rows', None)\n",
    "\n",
    "warnings.filterwarnings('ignore')"
   ]
  },
  {
   "cell_type": "code",
   "execution_count": 11,
   "metadata": {},
   "outputs": [
    {
     "data": {
      "text/html": [
       "<div>\n",
       "<style scoped>\n",
       "    .dataframe tbody tr th:only-of-type {\n",
       "        vertical-align: middle;\n",
       "    }\n",
       "\n",
       "    .dataframe tbody tr th {\n",
       "        vertical-align: top;\n",
       "    }\n",
       "\n",
       "    .dataframe thead th {\n",
       "        text-align: right;\n",
       "    }\n",
       "</style>\n",
       "<table border=\"1\" class=\"dataframe\">\n",
       "  <thead>\n",
       "    <tr style=\"text-align: right;\">\n",
       "      <th></th>\n",
       "      <th>drug_name</th>\n",
       "      <th>smiles</th>\n",
       "    </tr>\n",
       "  </thead>\n",
       "  <tbody>\n",
       "    <tr>\n",
       "      <th>0</th>\n",
       "      <td>(5Z)-7-Oxozeaenol</td>\n",
       "      <td>CC1CC=CC(=O)C(C(CC=CC2=C(C(=CC(=C2)OC)O)C(=O)O...</td>\n",
       "    </tr>\n",
       "    <tr>\n",
       "      <th>1</th>\n",
       "      <td>5-Fluorouracil</td>\n",
       "      <td>C1=C(C(=O)NC(=O)N1)F</td>\n",
       "    </tr>\n",
       "    <tr>\n",
       "      <th>2</th>\n",
       "      <td>Afatinib</td>\n",
       "      <td>CN(C)CC=CC(=O)NC1=C(C=C2C(=C1)C(=NC=N2)NC3=CC(...</td>\n",
       "    </tr>\n",
       "    <tr>\n",
       "      <th>3</th>\n",
       "      <td>AICA Ribonucleotide</td>\n",
       "      <td>C1=NC(=C(N1C2C(C(C(O2)COP(=O)(O)O)O)O)N)C(=O)N</td>\n",
       "    </tr>\n",
       "    <tr>\n",
       "      <th>4</th>\n",
       "      <td>AKT inhibitor VIII</td>\n",
       "      <td>C1CN(CCC1N2C3=CC=CC=C3NC2=O)CC4=CC=C(C=C4)C5=C...</td>\n",
       "    </tr>\n",
       "  </tbody>\n",
       "</table>\n",
       "</div>"
      ],
      "text/plain": [
       "             drug_name                                             smiles\n",
       "0    (5Z)-7-Oxozeaenol  CC1CC=CC(=O)C(C(CC=CC2=C(C(=CC(=C2)OC)O)C(=O)O...\n",
       "1       5-Fluorouracil                               C1=C(C(=O)NC(=O)N1)F\n",
       "2             Afatinib  CN(C)CC=CC(=O)NC1=C(C=C2C(=C1)C(=NC=N2)NC3=CC(...\n",
       "3  AICA Ribonucleotide     C1=NC(=C(N1C2C(C(C(O2)COP(=O)(O)O)O)O)N)C(=O)N\n",
       "4   AKT inhibitor VIII  C1CN(CCC1N2C3=CC=CC=C3NC2=O)CC4=CC=C(C=C4)C5=C..."
      ]
     },
     "execution_count": 11,
     "metadata": {},
     "output_type": "execute_result"
    }
   ],
   "source": [
    "df = pd.read_csv('NetGP_data/gdsc_drug_smiles_data.tsv', sep='\\t', header=0)\n",
    "df.head()"
   ]
  },
  {
   "cell_type": "code",
   "execution_count": 12,
   "metadata": {},
   "outputs": [
    {
     "name": "stderr",
     "output_type": "stream",
     "text": [
      "RDKit WARNING: [16:33:41] WARNING: not removing hydrogen atom without neighbors\n",
      "RDKit WARNING: [16:33:41] WARNING: not removing hydrogen atom without neighbors\n",
      "RDKit WARNING: [16:33:41] WARNING: not removing hydrogen atom without neighbors\n",
      "[16:33:41] WARNING: not removing hydrogen atom without neighbors\n",
      "[16:33:41] WARNING: not removing hydrogen atom without neighbors\n",
      "[16:33:41] WARNING: not removing hydrogen atom without neighbors\n"
     ]
    }
   ],
   "source": [
    "# Generating molecular objects from SMILES\n",
    "PandasTools.AddMoleculeColumnToFrame(df,'smiles','mol')"
   ]
  },
  {
   "cell_type": "markdown",
   "metadata": {},
   "source": [
    "# Morgan Fingerprint"
   ]
  },
  {
   "cell_type": "code",
   "execution_count": 15,
   "metadata": {},
   "outputs": [],
   "source": [
    "df_mf = []\n",
    "for mol in df['mol']:\n",
    "    mf_bitvertor = AllChem.GetMorganFingerprintAsBitVect(mol, radius=1, nBits = 2048)\n",
    "    arr=np.zeros((0,), dtype=np.int8)\n",
    "\n",
    "    # Convert the rdkit explicit vectors into numpy arrays\n",
    "    DataStructs.ConvertToNumpyArray(mf_bitvertor,arr)\n",
    "    df_mf.append(arr)\n",
    "\n",
    "MF = pd.concat([df, pd.DataFrame(df_mf)], axis=1)"
   ]
  },
  {
   "cell_type": "markdown",
   "metadata": {},
   "source": [
    "# Substructure generation using Tanimoto similarity"
   ]
  },
  {
   "cell_type": "code",
   "execution_count": 2,
   "metadata": {},
   "outputs": [
    {
     "name": "stdout",
     "output_type": "stream",
     "text": [
      "             drug_name                                             smiles\n",
      "0    (5Z)-7-Oxozeaenol  CC1CC=CC(=O)C(C(CC=CC2=C(C(=CC(=C2)OC)O)C(=O)O...\n",
      "1       5-Fluorouracil                               C1=C(C(=O)NC(=O)N1)F\n",
      "2             Afatinib  CN(C)CC=CC(=O)NC1=C(C=C2C(=C1)C(=NC=N2)NC3=CC(...\n",
      "3  AICA Ribonucleotide     C1=NC(=C(N1C2C(C(C(O2)COP(=O)(O)O)O)O)N)C(=O)N\n",
      "4   AKT inhibitor VIII  C1CN(CCC1N2C3=CC=CC=C3NC2=O)CC4=CC=C(C=C4)C5=C...\n",
      "(454, 2)\n"
     ]
    }
   ],
   "source": [
    "import pandas as pd\n",
    "import numpy as np\n",
    "import warnings\n",
    "\n",
    "data = pd.read_csv('NetGP_data/gdsc_drug_smiles_data.tsv', sep='\\t', header=0)\n",
    "\n",
    "print(data.head())\n",
    "print(data.shape)\n"
   ]
  },
  {
   "cell_type": "markdown",
   "metadata": {},
   "source": [
    "1. SMILES --> Fingerprint"
   ]
  },
  {
   "cell_type": "code",
   "execution_count": 3,
   "metadata": {},
   "outputs": [
    {
     "name": "stdout",
     "output_type": "stream",
     "text": [
      "(454, 2)\n"
     ]
    },
    {
     "name": "stderr",
     "output_type": "stream",
     "text": [
      "RDKit WARNING: [10:39:01] WARNING: not removing hydrogen atom without neighbors\n",
      "[10:39:01] WARNING: not removing hydrogen atom without neighbors\n",
      "RDKit WARNING: [10:39:01] WARNING: not removing hydrogen atom without neighbors\n",
      "RDKit WARNING: [10:39:01] WARNING: not removing hydrogen atom without neighbors\n",
      "[10:39:01] WARNING: not removing hydrogen atom without neighbors\n",
      "[10:39:01] WARNING: not removing hydrogen atom without neighbors\n"
     ]
    }
   ],
   "source": [
    "from rdkit import Chem, DataStructs\n",
    "from rdkit.Chem import AllChem\n",
    "\n",
    "# remove 'None' molecule\n",
    "idxs=[]\n",
    "for i, smiles in enumerate(data[\"smiles\"]):\n",
    "    mol = Chem.MolFromSmiles(smiles)\n",
    "    if (mol == None) :\n",
    "        print(i,mol)\n",
    "        idxs.append(i)\n",
    "data = data.drop(idxs, axis= 0)\n",
    "\n",
    "print(data.shape)"
   ]
  },
  {
   "cell_type": "code",
   "execution_count": 4,
   "metadata": {},
   "outputs": [
    {
     "name": "stderr",
     "output_type": "stream",
     "text": [
      "RDKit WARNING: [10:39:03] WARNING: not removing hydrogen atom without neighbors\n",
      "[10:39:03] WARNING: not removing hydrogen atom without neighbors\n",
      "RDKit WARNING: [10:39:03] WARNING: not removing hydrogen atom without neighbors\n",
      "RDKit WARNING: [10:39:03] WARNING: not removing hydrogen atom without neighbors\n",
      "[10:39:03] WARNING: not removing hydrogen atom without neighbors\n",
      "[10:39:03] WARNING: not removing hydrogen atom without neighbors\n"
     ]
    },
    {
     "data": {
      "text/html": [
       "<div>\n",
       "<style scoped>\n",
       "    .dataframe tbody tr th:only-of-type {\n",
       "        vertical-align: middle;\n",
       "    }\n",
       "\n",
       "    .dataframe tbody tr th {\n",
       "        vertical-align: top;\n",
       "    }\n",
       "\n",
       "    .dataframe thead th {\n",
       "        text-align: right;\n",
       "    }\n",
       "</style>\n",
       "<table border=\"1\" class=\"dataframe\">\n",
       "  <thead>\n",
       "    <tr style=\"text-align: right;\">\n",
       "      <th></th>\n",
       "      <th>drug_name</th>\n",
       "      <th>smiles</th>\n",
       "      <th>fp</th>\n",
       "    </tr>\n",
       "  </thead>\n",
       "  <tbody>\n",
       "    <tr>\n",
       "      <th>0</th>\n",
       "      <td>(5Z)-7-Oxozeaenol</td>\n",
       "      <td>CC1CC=CC(=O)C(C(CC=CC2=C(C(=CC(=C2)OC)O)C(=O)O...</td>\n",
       "      <td>[0, 0, 0, 0, 0, 0, 0, 0, 0, 0, 0, 0, 0, 0, 0, ...</td>\n",
       "    </tr>\n",
       "    <tr>\n",
       "      <th>1</th>\n",
       "      <td>5-Fluorouracil</td>\n",
       "      <td>C1=C(C(=O)NC(=O)N1)F</td>\n",
       "      <td>[0, 0, 0, 0, 0, 0, 0, 0, 0, 0, 0, 0, 0, 0, 0, ...</td>\n",
       "    </tr>\n",
       "    <tr>\n",
       "      <th>2</th>\n",
       "      <td>Afatinib</td>\n",
       "      <td>CN(C)CC=CC(=O)NC1=C(C=C2C(=C1)C(=NC=N2)NC3=CC(...</td>\n",
       "      <td>[0, 0, 0, 0, 0, 0, 0, 0, 0, 0, 0, 0, 0, 0, 0, ...</td>\n",
       "    </tr>\n",
       "    <tr>\n",
       "      <th>3</th>\n",
       "      <td>AICA Ribonucleotide</td>\n",
       "      <td>C1=NC(=C(N1C2C(C(C(O2)COP(=O)(O)O)O)O)N)C(=O)N</td>\n",
       "      <td>[0, 0, 0, 0, 0, 0, 0, 0, 0, 0, 0, 0, 0, 0, 0, ...</td>\n",
       "    </tr>\n",
       "    <tr>\n",
       "      <th>4</th>\n",
       "      <td>AKT inhibitor VIII</td>\n",
       "      <td>C1CN(CCC1N2C3=CC=CC=C3NC2=O)CC4=CC=C(C=C4)C5=C...</td>\n",
       "      <td>[0, 0, 0, 0, 0, 0, 0, 0, 0, 0, 0, 0, 0, 0, 0, ...</td>\n",
       "    </tr>\n",
       "  </tbody>\n",
       "</table>\n",
       "</div>"
      ],
      "text/plain": [
       "             drug_name                                             smiles  \\\n",
       "0    (5Z)-7-Oxozeaenol  CC1CC=CC(=O)C(C(CC=CC2=C(C(=CC(=C2)OC)O)C(=O)O...   \n",
       "1       5-Fluorouracil                               C1=C(C(=O)NC(=O)N1)F   \n",
       "2             Afatinib  CN(C)CC=CC(=O)NC1=C(C=C2C(=C1)C(=NC=N2)NC3=CC(...   \n",
       "3  AICA Ribonucleotide     C1=NC(=C(N1C2C(C(C(O2)COP(=O)(O)O)O)O)N)C(=O)N   \n",
       "4   AKT inhibitor VIII  C1CN(CCC1N2C3=CC=CC=C3NC2=O)CC4=CC=C(C=C4)C5=C...   \n",
       "\n",
       "                                                  fp  \n",
       "0  [0, 0, 0, 0, 0, 0, 0, 0, 0, 0, 0, 0, 0, 0, 0, ...  \n",
       "1  [0, 0, 0, 0, 0, 0, 0, 0, 0, 0, 0, 0, 0, 0, 0, ...  \n",
       "2  [0, 0, 0, 0, 0, 0, 0, 0, 0, 0, 0, 0, 0, 0, 0, ...  \n",
       "3  [0, 0, 0, 0, 0, 0, 0, 0, 0, 0, 0, 0, 0, 0, 0, ...  \n",
       "4  [0, 0, 0, 0, 0, 0, 0, 0, 0, 0, 0, 0, 0, 0, 0, ...  "
      ]
     },
     "execution_count": 4,
     "metadata": {},
     "output_type": "execute_result"
    }
   ],
   "source": [
    "# Fingerprint\n",
    "fps = []\n",
    "for i, smiles in enumerate(data[\"smiles\"]):\n",
    "    mol = Chem.MolFromSmiles(smiles)\n",
    "    arr = np.zeros((1,))\n",
    "    fp = AllChem.GetMorganFingerprintAsBitVect(mol, radius=2, nBits=2048)\n",
    "    DataStructs.ConvertToNumpyArray(fp, arr)\n",
    "\n",
    "    fps.append(fp)\n",
    "\n",
    "data['fp'] = fps\n",
    "data.head()"
   ]
  },
  {
   "cell_type": "code",
   "execution_count": 30,
   "metadata": {},
   "outputs": [
    {
     "name": "stdout",
     "output_type": "stream",
     "text": [
      "[0. 0. 0. ... 0. 0. 0.]\n",
      "[0. 0. 0. ... 0. 0. 0.]\n",
      "35.0\n",
      "21.0\n",
      "0.3333333333333333\n"
     ]
    }
   ],
   "source": [
    "# example\n",
    "drug_smiles =  \"Cc1cc(Oc2nccc(CCC)c2)ccc1\"\n",
    "substructure_smiles = \"c1ccc(Oc2ccccn2)cc1\"\n",
    "\n",
    "# Tanimoto similarity threshold\n",
    "threshold = 0.7\n",
    "\n",
    "# Drug --> Fingerprint\n",
    "drug_molecule = Chem.MolFromSmiles(drug_smiles)\n",
    "drug_fp = AllChem.GetMorganFingerprintAsBitVect(drug_molecule, 2, nBits=2048)\n",
    "drug_arr = np.zeros((1,))\n",
    "DataStructs.ConvertToNumpyArray(drug_fp, drug_arr)\n",
    "\n",
    "# Substructure --> Fingerprint\n",
    "substructure_molecule = Chem.MolFromSmiles(substructure_smiles)\n",
    "substructure_fp = AllChem.GetMorganFingerprintAsBitVect(substructure_molecule, 2, nBits=2048)\n",
    "substructure_arr = np.zeros((1,))\n",
    "DataStructs.ConvertToNumpyArray(substructure_fp, substructure_arr)\n",
    "\n",
    "print(drug_arr)\n",
    "print(substructure_arr)\n",
    "print(np.sum(drug_arr))\n",
    "print(np.sum(substructure_arr))\n",
    "\n",
    "# Tanimoto similarity\n",
    "similarity = DataStructs.TanimotoSimilarity(drug_fp, substructure_fp)\n",
    "print(similarity)\n"
   ]
  },
  {
   "cell_type": "code",
   "execution_count": null,
   "metadata": {},
   "outputs": [],
   "source": []
  },
  {
   "cell_type": "code",
   "execution_count": null,
   "metadata": {},
   "outputs": [],
   "source": []
  },
  {
   "cell_type": "code",
   "execution_count": null,
   "metadata": {},
   "outputs": [],
   "source": []
  },
  {
   "cell_type": "code",
   "execution_count": null,
   "metadata": {},
   "outputs": [],
   "source": []
  }
 ],
 "metadata": {
  "kernelspec": {
   "display_name": "MoCL",
   "language": "python",
   "name": "python3"
  },
  "language_info": {
   "codemirror_mode": {
    "name": "ipython",
    "version": 3
   },
   "file_extension": ".py",
   "mimetype": "text/x-python",
   "name": "python",
   "nbconvert_exporter": "python",
   "pygments_lexer": "ipython3",
   "version": "3.7.12"
  }
 },
 "nbformat": 4,
 "nbformat_minor": 2
}
